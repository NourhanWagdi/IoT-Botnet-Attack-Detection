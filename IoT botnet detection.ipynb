{
  "nbformat": 4,
  "nbformat_minor": 0,
  "metadata": {
    "kernelspec": {
      "display_name": "Python 3",
      "language": "python",
      "name": "python3"
    },
    "language_info": {
      "codemirror_mode": {
        "name": "ipython",
        "version": 3
      },
      "file_extension": ".py",
      "mimetype": "text/x-python",
      "name": "python",
      "nbconvert_exporter": "python",
      "pygments_lexer": "ipython3",
      "version": "3.6.4"
    },
    "colab": {
      "name": "Task_2.ipynb",
      "provenance": [],
      "collapsed_sections": [
        "5KALqHe7lEjQ"
      ]
    }
  },
  "cells": [
    {
      "cell_type": "markdown",
      "metadata": {
        "id": "GhDcGi-ujRH1"
      },
      "source": [
        "# **Task 2**"
      ]
    },
    {
      "cell_type": "markdown",
      "metadata": {
        "id": "IxcmpDzn9fLG"
      },
      "source": [
        "could also be found at:\n",
        "https://colab.research.google.com/drive/1qZx_6MOuTyAsl5_8ubqhqz0Vn44BOMmG?usp=sharing"
      ]
    },
    {
      "cell_type": "markdown",
      "metadata": {
        "id": "R0NaZGSLiMfB"
      },
      "source": [
        "## Imports and helper functions"
      ]
    },
    {
      "cell_type": "code",
      "metadata": {
        "id": "VIiX69ZxDhAd",
        "colab": {
          "base_uri": "https://localhost:8080/"
        },
        "outputId": "8bf4bd5d-e910-4242-bf0b-0224027aa57f"
      },
      "source": [
        "import pandas as pd\n",
        "import numpy as np\n",
        "from sklearn import preprocessing\n",
        "from sklearn.preprocessing import LabelEncoder\n",
        "from collections import Counter\n",
        "from imblearn.pipeline import make_pipeline\n",
        "from imblearn.over_sampling import SMOTE\n",
        "from imblearn.under_sampling import NearMiss\n",
        "import time\n",
        "from sklearn.model_selection import train_test_split\n",
        "from sklearn.tree import DecisionTreeClassifier\n",
        "from sklearn.ensemble import RandomForestClassifier\n",
        "from sklearn import metrics\n",
        "from sklearn.metrics import classification_report\n",
        "from sklearn.metrics import confusion_matrix\n",
        "from sklearn.metrics import plot_confusion_matrix\n",
        "from sklearn.metrics import precision_recall_fscore_support as score\n",
        "import seaborn as sns\n",
        "from matplotlib import rcParams\n",
        "import matplotlib.pyplot as plt\n",
        "!pip install kafka-python\n",
        "import time\n",
        "from kafka import KafkaConsumer\n",
        "from numpy import nan\n",
        "from numpy import inf\n",
        "import ast\n",
        "import pickle\n",
        "import matplotlib.ticker as ticker\n",
        "import warnings\n",
        "warnings.filterwarnings('ignore')\n",
        "rcParams['figure.figsize'] = 11.7,8.27\n",
        "rcParams.update({'font.size': 22})"
      ],
      "execution_count": null,
      "outputs": [
        {
          "output_type": "stream",
          "name": "stdout",
          "text": [
            "Requirement already satisfied: kafka-python in /usr/local/lib/python3.7/dist-packages (2.0.2)\n"
          ]
        }
      ]
    },
    {
      "cell_type": "code",
      "metadata": {
        "id": "K5xUCR8tMyq7"
      },
      "source": [
        "''' This function trains and tests the model using the training and testing sets. it returns the predictions, F1 score and classification report '''\n",
        "def train_test_clf(model, X_train, X_test, y_train, y_test,labels):\n",
        "    print('Start training....', end='')\n",
        "    model.fit(X_train, y_train)\n",
        "    print('done!')\n",
        "    print('Start testing....', end='')\n",
        "    predictions = model.predict(X_test)\n",
        "    f1score = metrics.f1_score(y_test, predictions, average=\"weighted\")\n",
        "    metrics_report = classification_report(y_test, predictions, target_names=labels)\n",
        "    precision, recall, fscore, train_support = score(y_test, predictions, average='weighted')\n",
        "    print('done!')\n",
        "    return predictions, f1score, metrics_report, (precision, recall, fscore)"
      ],
      "execution_count": null,
      "outputs": []
    },
    {
      "cell_type": "code",
      "metadata": {
        "id": "tDe6mkB8eQ9x"
      },
      "source": [
        "'''\n",
        "This function contains a loop that is called within the dynamic solution, responsible for pulling the data from the dynamic source,\n",
        "iterating through them, and preprocessing them accordingly. After that, the function is also responsible for appending the pulled packets to the \n",
        "dataset for further prediction.\n",
        "The function takes the number of packets in the sliding window (10K packets in this case), and returns a dataframe representing the dataset ready for prediction.\n",
        "'''\n",
        "def consumer_loop(iterations):\n",
        "  df= pd.DataFrame()\n",
        "  i = 0\n",
        "  arr = []\n",
        "  for message in consumer:\n",
        "      # print(f\"Consuming the {i+1}th data packet!\")\n",
        "      data_packet=message.value\n",
        "      # data_packet = data_packet.decode(\"utf-8\")\n",
        "      # data_packet = data_packet.replace('inf', 'inf')\n",
        "      # data_packet = data_packet.replace('-inf', 'inf * -1)')\n",
        "      # data_packet = data_packet.replace('nan', 'np.nan')\n",
        "      x = eval(data_packet)\n",
        "      arr.append(x)\n",
        "      if i == iterations-1:\n",
        "          break\n",
        "      i += 1\n",
        "\n",
        "  df = df.append(arr,ignore_index=True)\n",
        "  # df.columns = df.columns.str.replace(' ', '')\n",
        "  # df = df[df.columns]\n",
        "  df = df.drop(['Source'], axis=1)\n",
        "  df['Class'] = enc.transform(df['Class'])\n",
        "  # df = data_clean(df)  \n",
        "  # df[df.columns[:-1]] = rs.transform(df[df.columns[:-1]])\n",
        "  return df "
      ],
      "execution_count": null,
      "outputs": []
    },
    {
      "cell_type": "markdown",
      "metadata": {
        "id": "fVcha208ktbL"
      },
      "source": [
        "## Loading dataset"
      ]
    },
    {
      "cell_type": "code",
      "metadata": {
        "colab": {
          "base_uri": "https://localhost:8080/",
          "height": 349
        },
        "id": "YOvRrcCdG9Sb",
        "outputId": "00ebdf7a-7e66-4daa-e032-8aadc6353b74"
      },
      "source": [
        "'''\n",
        "Loading the dataset from a private repo in my own github account, (Note: the repository is private. It is only used for storage. the given dataset is not shared anywhere \n",
        "on the internet whatsoever) to avoid uploading the dataset into google colab runtime session each time the runtime is recycled.\n",
        "'''\n",
        "data = pd.read_csv('https://raw.githubusercontent.com/NourhanWagdi/Kafka/main/iot_static_data.csv?token=AJY3Q3Y7E4J5YKSVFHMLRPTBT2J7C')\n",
        "data.head(3)"
      ],
      "execution_count": null,
      "outputs": [
        {
          "output_type": "execute_result",
          "data": {
            "text/html": [
              "<div>\n",
              "<style scoped>\n",
              "    .dataframe tbody tr th:only-of-type {\n",
              "        vertical-align: middle;\n",
              "    }\n",
              "\n",
              "    .dataframe tbody tr th {\n",
              "        vertical-align: top;\n",
              "    }\n",
              "\n",
              "    .dataframe thead th {\n",
              "        text-align: right;\n",
              "    }\n",
              "</style>\n",
              "<table border=\"1\" class=\"dataframe\">\n",
              "  <thead>\n",
              "    <tr style=\"text-align: right;\">\n",
              "      <th></th>\n",
              "      <th>MI_dir_L5_weight</th>\n",
              "      <th>MI_dir_L5_mean</th>\n",
              "      <th>MI_dir_L5_variance</th>\n",
              "      <th>MI_dir_L3_weight</th>\n",
              "      <th>MI_dir_L3_mean</th>\n",
              "      <th>MI_dir_L3_variance</th>\n",
              "      <th>MI_dir_L1_weight</th>\n",
              "      <th>MI_dir_L1_mean</th>\n",
              "      <th>MI_dir_L1_variance</th>\n",
              "      <th>MI_dir_L0.1_weight</th>\n",
              "      <th>MI_dir_L0.1_mean</th>\n",
              "      <th>MI_dir_L0.1_variance</th>\n",
              "      <th>MI_dir_L0.01_weight</th>\n",
              "      <th>MI_dir_L0.01_mean</th>\n",
              "      <th>MI_dir_L0.01_variance</th>\n",
              "      <th>H_L5_weight</th>\n",
              "      <th>H_L5_mean</th>\n",
              "      <th>H_L5_variance</th>\n",
              "      <th>H_L3_weight</th>\n",
              "      <th>H_L3_mean</th>\n",
              "      <th>H_L3_variance</th>\n",
              "      <th>H_L1_weight</th>\n",
              "      <th>H_L1_mean</th>\n",
              "      <th>H_L1_variance</th>\n",
              "      <th>H_L0.1_weight</th>\n",
              "      <th>H_L0.1_mean</th>\n",
              "      <th>H_L0.1_variance</th>\n",
              "      <th>H_L0.01_weight</th>\n",
              "      <th>H_L0.01_mean</th>\n",
              "      <th>H_L0.01_variance</th>\n",
              "      <th>HH_L5_weight</th>\n",
              "      <th>HH_L5_mean</th>\n",
              "      <th>HH_L5_std</th>\n",
              "      <th>HH_L5_magnitude</th>\n",
              "      <th>HH_L5_radius</th>\n",
              "      <th>HH_L5_covariance</th>\n",
              "      <th>HH_L5_pcc</th>\n",
              "      <th>HH_L3_weight</th>\n",
              "      <th>HH_L3_mean</th>\n",
              "      <th>HH_L3_std</th>\n",
              "      <th>...</th>\n",
              "      <th>HH_jit_L0.01_weight</th>\n",
              "      <th>HH_jit_L0.01_mean</th>\n",
              "      <th>HH_jit_L0.01_variance</th>\n",
              "      <th>HpHp_L5_weight</th>\n",
              "      <th>HpHp_L5_mean</th>\n",
              "      <th>HpHp_L5_std</th>\n",
              "      <th>HpHp_L5_magnitude</th>\n",
              "      <th>HpHp_L5_radius</th>\n",
              "      <th>HpHp_L5_covariance</th>\n",
              "      <th>HpHp_L5_pcc</th>\n",
              "      <th>HpHp_L3_weight</th>\n",
              "      <th>HpHp_L3_mean</th>\n",
              "      <th>HpHp_L3_std</th>\n",
              "      <th>HpHp_L3_magnitude</th>\n",
              "      <th>HpHp_L3_radius</th>\n",
              "      <th>HpHp_L3_covariance</th>\n",
              "      <th>HpHp_L3_pcc</th>\n",
              "      <th>HpHp_L1_weight</th>\n",
              "      <th>HpHp_L1_mean</th>\n",
              "      <th>HpHp_L1_std</th>\n",
              "      <th>HpHp_L1_magnitude</th>\n",
              "      <th>HpHp_L1_radius</th>\n",
              "      <th>HpHp_L1_covariance</th>\n",
              "      <th>HpHp_L1_pcc</th>\n",
              "      <th>HpHp_L0.1_weight</th>\n",
              "      <th>HpHp_L0.1_mean</th>\n",
              "      <th>HpHp_L0.1_std</th>\n",
              "      <th>HpHp_L0.1_magnitude</th>\n",
              "      <th>HpHp_L0.1_radius</th>\n",
              "      <th>HpHp_L0.1_covariance</th>\n",
              "      <th>HpHp_L0.1_pcc</th>\n",
              "      <th>HpHp_L0.01_weight</th>\n",
              "      <th>HpHp_L0.01_mean</th>\n",
              "      <th>HpHp_L0.01_std</th>\n",
              "      <th>HpHp_L0.01_magnitude</th>\n",
              "      <th>HpHp_L0.01_radius</th>\n",
              "      <th>HpHp_L0.01_covariance</th>\n",
              "      <th>HpHp_L0.01_pcc</th>\n",
              "      <th>Source</th>\n",
              "      <th>Class</th>\n",
              "    </tr>\n",
              "  </thead>\n",
              "  <tbody>\n",
              "    <tr>\n",
              "      <th>0</th>\n",
              "      <td>19.570634</td>\n",
              "      <td>152.679121</td>\n",
              "      <td>39991.937640</td>\n",
              "      <td>20.937891</td>\n",
              "      <td>150.455024</td>\n",
              "      <td>38960.674060</td>\n",
              "      <td>23.168006</td>\n",
              "      <td>145.454142</td>\n",
              "      <td>36954.21504</td>\n",
              "      <td>33.115077</td>\n",
              "      <td>123.515434</td>\n",
              "      <td>27655.53889</td>\n",
              "      <td>62.619034</td>\n",
              "      <td>102.471926</td>\n",
              "      <td>15409.86815</td>\n",
              "      <td>19.570634</td>\n",
              "      <td>152.679121</td>\n",
              "      <td>39991.937640</td>\n",
              "      <td>20.937891</td>\n",
              "      <td>150.455024</td>\n",
              "      <td>38960.674060</td>\n",
              "      <td>23.168006</td>\n",
              "      <td>145.454142</td>\n",
              "      <td>36954.21504</td>\n",
              "      <td>33.115077</td>\n",
              "      <td>123.515434</td>\n",
              "      <td>27655.53889</td>\n",
              "      <td>62.619034</td>\n",
              "      <td>102.471926</td>\n",
              "      <td>15409.86815</td>\n",
              "      <td>18.885473</td>\n",
              "      <td>156.041505</td>\n",
              "      <td>202.780449</td>\n",
              "      <td>349.823034</td>\n",
              "      <td>160261.014500</td>\n",
              "      <td>-29563.398800</td>\n",
              "      <td>-0.370432</td>\n",
              "      <td>20.044037</td>\n",
              "      <td>154.488822</td>\n",
              "      <td>200.790831</td>\n",
              "      <td>...</td>\n",
              "      <td>30.034811</td>\n",
              "      <td>5.307252</td>\n",
              "      <td>129.851752</td>\n",
              "      <td>4.880738</td>\n",
              "      <td>181.620841</td>\n",
              "      <td>227.548005</td>\n",
              "      <td>291.835506</td>\n",
              "      <td>59579.844560</td>\n",
              "      <td>17447.876</td>\n",
              "      <td>0.446623</td>\n",
              "      <td>4.927844</td>\n",
              "      <td>181.698241</td>\n",
              "      <td>227.581665</td>\n",
              "      <td>291.280119</td>\n",
              "      <td>59578.905890</td>\n",
              "      <td>17793.81865</td>\n",
              "      <td>0.455634</td>\n",
              "      <td>4.975746</td>\n",
              "      <td>181.767997</td>\n",
              "      <td>227.609424</td>\n",
              "      <td>290.719232</td>\n",
              "      <td>59575.027260</td>\n",
              "      <td>18141.80757</td>\n",
              "      <td>0.464725</td>\n",
              "      <td>4.997565</td>\n",
              "      <td>181.796886</td>\n",
              "      <td>227.619989</td>\n",
              "      <td>290.465036</td>\n",
              "      <td>59572.320380</td>\n",
              "      <td>18299.05366</td>\n",
              "      <td>0.468843</td>\n",
              "      <td>4.999756</td>\n",
              "      <td>181.799689</td>\n",
              "      <td>227.620979</td>\n",
              "      <td>290.439555</td>\n",
              "      <td>59572.01682</td>\n",
              "      <td>18314.80015</td>\n",
              "      <td>0.469256</td>\n",
              "      <td>Provision PT 838 Security Camera</td>\n",
              "      <td>BENIGN</td>\n",
              "    </tr>\n",
              "    <tr>\n",
              "      <th>1</th>\n",
              "      <td>49.893840</td>\n",
              "      <td>169.297843</td>\n",
              "      <td>54532.338720</td>\n",
              "      <td>62.957476</td>\n",
              "      <td>169.735104</td>\n",
              "      <td>54283.995040</td>\n",
              "      <td>82.340884</td>\n",
              "      <td>168.919514</td>\n",
              "      <td>53449.81973</td>\n",
              "      <td>98.214224</td>\n",
              "      <td>164.300338</td>\n",
              "      <td>51038.67281</td>\n",
              "      <td>124.460107</td>\n",
              "      <td>146.697496</td>\n",
              "      <td>42083.22328</td>\n",
              "      <td>49.893840</td>\n",
              "      <td>169.297843</td>\n",
              "      <td>54532.338720</td>\n",
              "      <td>62.957476</td>\n",
              "      <td>169.735104</td>\n",
              "      <td>54283.995040</td>\n",
              "      <td>82.340884</td>\n",
              "      <td>168.919514</td>\n",
              "      <td>53449.81973</td>\n",
              "      <td>98.214224</td>\n",
              "      <td>164.300338</td>\n",
              "      <td>51038.67281</td>\n",
              "      <td>124.460107</td>\n",
              "      <td>146.697496</td>\n",
              "      <td>42083.22328</td>\n",
              "      <td>49.886530</td>\n",
              "      <td>169.313860</td>\n",
              "      <td>233.534964</td>\n",
              "      <td>295.273638</td>\n",
              "      <td>90407.873240</td>\n",
              "      <td>-2457.802895</td>\n",
              "      <td>-0.039193</td>\n",
              "      <td>62.898830</td>\n",
              "      <td>169.837418</td>\n",
              "      <td>233.073744</td>\n",
              "      <td>...</td>\n",
              "      <td>97.549007</td>\n",
              "      <td>1.686998</td>\n",
              "      <td>63.199293</td>\n",
              "      <td>1.980432</td>\n",
              "      <td>69.960478</td>\n",
              "      <td>3.999805</td>\n",
              "      <td>101.835497</td>\n",
              "      <td>15.998438</td>\n",
              "      <td>0.000</td>\n",
              "      <td>0.000000</td>\n",
              "      <td>1.988213</td>\n",
              "      <td>69.976286</td>\n",
              "      <td>3.999930</td>\n",
              "      <td>101.846358</td>\n",
              "      <td>15.999438</td>\n",
              "      <td>0.00000</td>\n",
              "      <td>0.000000</td>\n",
              "      <td>1.996055</td>\n",
              "      <td>69.992095</td>\n",
              "      <td>3.999992</td>\n",
              "      <td>101.857221</td>\n",
              "      <td>15.999938</td>\n",
              "      <td>0.00000</td>\n",
              "      <td>0.000000</td>\n",
              "      <td>1.999605</td>\n",
              "      <td>69.999210</td>\n",
              "      <td>4.000000</td>\n",
              "      <td>101.862109</td>\n",
              "      <td>15.999999</td>\n",
              "      <td>0.00000</td>\n",
              "      <td>0.000000</td>\n",
              "      <td>1.999960</td>\n",
              "      <td>69.999921</td>\n",
              "      <td>4.000000</td>\n",
              "      <td>101.862598</td>\n",
              "      <td>16.00000</td>\n",
              "      <td>0.00000</td>\n",
              "      <td>0.000000</td>\n",
              "      <td>Provision PT 737E Security Camera</td>\n",
              "      <td>BENIGN</td>\n",
              "    </tr>\n",
              "    <tr>\n",
              "      <th>2</th>\n",
              "      <td>1.996527</td>\n",
              "      <td>449.011775</td>\n",
              "      <td>409.365474</td>\n",
              "      <td>2.002395</td>\n",
              "      <td>448.141152</td>\n",
              "      <td>739.076602</td>\n",
              "      <td>2.166552</td>\n",
              "      <td>419.128740</td>\n",
              "      <td>11039.48506</td>\n",
              "      <td>4.621621</td>\n",
              "      <td>278.780846</td>\n",
              "      <td>34237.68791</td>\n",
              "      <td>29.401508</td>\n",
              "      <td>286.241737</td>\n",
              "      <td>32040.66862</td>\n",
              "      <td>1.996527</td>\n",
              "      <td>449.011775</td>\n",
              "      <td>409.365474</td>\n",
              "      <td>2.002395</td>\n",
              "      <td>448.141152</td>\n",
              "      <td>739.076602</td>\n",
              "      <td>2.166552</td>\n",
              "      <td>419.128740</td>\n",
              "      <td>11039.48506</td>\n",
              "      <td>4.621621</td>\n",
              "      <td>278.780846</td>\n",
              "      <td>34237.68791</td>\n",
              "      <td>29.401508</td>\n",
              "      <td>286.241737</td>\n",
              "      <td>32040.66862</td>\n",
              "      <td>1.996402</td>\n",
              "      <td>449.036043</td>\n",
              "      <td>19.999968</td>\n",
              "      <td>449.036043</td>\n",
              "      <td>399.998701</td>\n",
              "      <td>0.000000</td>\n",
              "      <td>0.000000</td>\n",
              "      <td>1.997840</td>\n",
              "      <td>449.021626</td>\n",
              "      <td>19.999988</td>\n",
              "      <td>...</td>\n",
              "      <td>14.978833</td>\n",
              "      <td>10.667405</td>\n",
              "      <td>206.157032</td>\n",
              "      <td>1.996402</td>\n",
              "      <td>449.036043</td>\n",
              "      <td>19.999968</td>\n",
              "      <td>449.036043</td>\n",
              "      <td>399.998701</td>\n",
              "      <td>0.000</td>\n",
              "      <td>0.000000</td>\n",
              "      <td>1.997840</td>\n",
              "      <td>449.021626</td>\n",
              "      <td>19.999988</td>\n",
              "      <td>449.021626</td>\n",
              "      <td>399.999532</td>\n",
              "      <td>0.00000</td>\n",
              "      <td>0.000000</td>\n",
              "      <td>1.999279</td>\n",
              "      <td>449.007209</td>\n",
              "      <td>19.999999</td>\n",
              "      <td>449.007209</td>\n",
              "      <td>399.999948</td>\n",
              "      <td>0.00000</td>\n",
              "      <td>0.000000</td>\n",
              "      <td>2.428558</td>\n",
              "      <td>450.295009</td>\n",
              "      <td>20.081460</td>\n",
              "      <td>450.295009</td>\n",
              "      <td>403.265056</td>\n",
              "      <td>0.00000</td>\n",
              "      <td>0.000000</td>\n",
              "      <td>14.978833</td>\n",
              "      <td>455.354366</td>\n",
              "      <td>19.592951</td>\n",
              "      <td>455.354366</td>\n",
              "      <td>383.88371</td>\n",
              "      <td>0.00000</td>\n",
              "      <td>0.000000</td>\n",
              "      <td>Samsung SNH 1011 N Webcam</td>\n",
              "      <td>BENIGN</td>\n",
              "    </tr>\n",
              "  </tbody>\n",
              "</table>\n",
              "<p>3 rows × 117 columns</p>\n",
              "</div>"
            ],
            "text/plain": [
              "   MI_dir_L5_weight  MI_dir_L5_mean  ...                             Source   Class\n",
              "0         19.570634      152.679121  ...   Provision PT 838 Security Camera  BENIGN\n",
              "1         49.893840      169.297843  ...  Provision PT 737E Security Camera  BENIGN\n",
              "2          1.996527      449.011775  ...          Samsung SNH 1011 N Webcam  BENIGN\n",
              "\n",
              "[3 rows x 117 columns]"
            ]
          },
          "metadata": {},
          "execution_count": 57
        }
      ]
    },
    {
      "cell_type": "markdown",
      "metadata": {
        "id": "8h8P30S-k2gQ"
      },
      "source": [
        "## Data preprocessing"
      ]
    },
    {
      "cell_type": "code",
      "metadata": {
        "id": "l_pvj7w2A8aI"
      },
      "source": [
        "labels = data['Class'].unique()"
      ],
      "execution_count": null,
      "outputs": []
    },
    {
      "cell_type": "code",
      "metadata": {
        "id": "S-W8-jKIqeY-"
      },
      "source": [
        "'''\n",
        "Encoding the label into a numeric form so it would be machine-readable\n",
        "'''\n",
        "enc = LabelEncoder()\n",
        "data['Class'] = enc.fit_transform(data['Class'])"
      ],
      "execution_count": null,
      "outputs": []
    },
    {
      "cell_type": "code",
      "metadata": {
        "id": "tEmpxxSW8v1T"
      },
      "source": [
        "'''\n",
        "Dropped the Source column as it only contains string values that cannot be handled by any of the models\n",
        "'''\n",
        "data = data.drop(['Source'], axis=1)"
      ],
      "execution_count": null,
      "outputs": []
    },
    {
      "cell_type": "code",
      "metadata": {
        "id": "GCpt9yA_DhAh",
        "colab": {
          "base_uri": "https://localhost:8080/"
        },
        "outputId": "9595ae86-c8a9-4ad8-b6a8-45fe328b3ba6"
      },
      "source": [
        "'''\n",
        "Separated labels from the rest of the features\n",
        "'''\n",
        "X = data.drop(['Class'], axis=1)\n",
        "y = data['Class']\n",
        "y.head(5)"
      ],
      "execution_count": null,
      "outputs": [
        {
          "output_type": "execute_result",
          "data": {
            "text/plain": [
              "0    0\n",
              "1    0\n",
              "2    0\n",
              "3    0\n",
              "4    9\n",
              "Name: Class, dtype: int64"
            ]
          },
          "metadata": {},
          "execution_count": 61
        }
      ]
    },
    {
      "cell_type": "markdown",
      "metadata": {
        "id": "5KALqHe7lEjQ"
      },
      "source": [
        "### Data balancing"
      ]
    },
    {
      "cell_type": "code",
      "metadata": {
        "colab": {
          "base_uri": "https://localhost:8080/"
        },
        "id": "FZRw-PtmL9sS",
        "outputId": "0513bc38-609b-4a90-b231-6c1955835028"
      },
      "source": [
        "'''\n",
        "plotting a bar graph that shows the count of samples for each class (huge imbalance observed)\n",
        "'''\n",
        "before_res = y.value_counts().plot(kind='bar', title='Class vs Number of samples before resampling', cmap='plasma')\n",
        "plt.show()"
      ],
      "execution_count": null,
      "outputs": [
        {
          "output_type": "display_data",
          "data": {
            "image/png": "[encoded data removed]",
            "text/plain": [
              "<Figure size 842.4x595.44 with 1 Axes>"
            ]
          },
          "metadata": {}
        }
      ]
    },
    {
      "cell_type": "code",
      "metadata": {
        "colab": {
          "base_uri": "https://localhost:8080/"
        },
        "id": "Op_YkTLFDNTd",
        "outputId": "99abcb8d-9d58-48da-837a-cd95cb0cd587"
      },
      "source": [
        "'''\n",
        "Resampling in attempt to balance the dataset.\n",
        "The class with the highest number of samples was undersampled, while the classes with relatively low number of samples were oversampled.\n",
        "'''\n",
        "print('Original dataset shape %s' % Counter(y))\n",
        "count_class_0 = 8000\n",
        "count_class_9 = 5000\n",
        "count_class_5 = 1500\n",
        "count_class_2 = 600\n",
        "count_class_4 = 500\n",
        "count_class_3 = 300\n",
        "count_class_8 = 300\n",
        "count_class_6 = 200\n",
        "count_class_7 = 200\n",
        "count_class_1 = 200\n",
        "count_class_10 = 100\n",
        "\n",
        "pipe = make_pipeline(          # a pipeline was created to assemble the steps of resampling together (SMOTE for oversampling, and NearMiss for undersampling) \n",
        "    SMOTE(sampling_strategy={9: count_class_9, 5: count_class_5, 2: count_class_2, 4: count_class_4,\n",
        "                             3: count_class_3, 8: count_class_8, 6: count_class_6, 7: count_class_7,\n",
        "                             1: count_class_1, 10: count_class_10,}),\n",
        "    NearMiss(sampling_strategy={0: count_class_0})\n",
        ")\n",
        "\n",
        "X, y = pipe.fit_resample(X, y)\n",
        "\n",
        "print('Resampled dataset shape %s' % Counter(y))"
      ],
      "execution_count": null,
      "outputs": [
        {
          "output_type": "stream",
          "name": "stdout",
          "text": [
            "Original dataset shape Counter({0: 22287, 9: 1774, 5: 446, 2: 377, 4: 213, 3: 200, 8: 101, 6: 96, 7: 86, 1: 18, 10: 11})\n",
            "Resampled dataset shape Counter({0: 8000, 9: 5000, 5: 1500, 2: 600, 4: 500, 3: 300, 8: 300, 1: 200, 6: 200, 7: 200, 10: 100})\n"
          ]
        }
      ]
    },
    {
      "cell_type": "code",
      "metadata": {
        "colab": {
          "base_uri": "https://localhost:8080/"
        },
        "id": "mJW3OkR2OdNl",
        "outputId": "422c03be-cc78-4e2e-87b7-bcc91f1dbf1e"
      },
      "source": [
        "'''\n",
        "bar graph was plotted again to show the count of samples for each class after resampling.\n",
        "(Note: resampling was done carefully and flattening the bars was avoided not to overwhelm the classifiers with too many false positives.)\n",
        "'''\n",
        "after_res = y.value_counts().plot(kind='bar', title='Classes vs Number of samples after resampling', cmap='plasma')\n",
        "plt.show()"
      ],
      "execution_count": null,
      "outputs": [
        {
          "output_type": "display_data",
          "data": {
            "image/png": "[encoded data removed]",
            "text/plain": [
              "<Figure size 842.4x595.44 with 1 Axes>"
            ]
          },
          "metadata": {}
        }
      ]
    },
    {
      "cell_type": "markdown",
      "metadata": {
        "id": "rfVgEwtKlsYW"
      },
      "source": [
        "### Data splitting"
      ]
    },
    {
      "cell_type": "code",
      "metadata": {
        "id": "2aMlT1FUv6Zx",
        "colab": {
          "base_uri": "https://localhost:8080/"
        },
        "outputId": "c7a78140-3278-4dcb-c314-75d978387928"
      },
      "source": [
        "'''\n",
        "Splitting the data into training and testing portions using 60% for training and 40% for testing.\n",
        "'''\n",
        "X_train, X_test, y_train, y_test = train_test_split(X, y, test_size=0.4)\n",
        "print('Training set Shape: {}  | Test set Shape: {}'.format(X_train.shape, X_test.shape))"
      ],
      "execution_count": null,
      "outputs": [
        {
          "output_type": "stream",
          "name": "stdout",
          "text": [
            "Training set Shape: (10140, 115)  | Test set Shape: (6760, 115)\n"
          ]
        }
      ]
    },
    {
      "cell_type": "markdown",
      "metadata": {
        "id": "Un-QsGEE6ONR"
      },
      "source": [
        "##First learning algorithm (Static) - Decision tree"
      ]
    },
    {
      "cell_type": "code",
      "metadata": {
        "colab": {
          "base_uri": "https://localhost:8080/"
        },
        "id": "eF3zI22mLcXV",
        "outputId": "943f4c34-efef-438c-991a-03b787d1f05d"
      },
      "source": [
        "'''\n",
        "Decision tree classifier is defined, all hyperparameters remained default.\n",
        "'''\n",
        "DT_model = DecisionTreeClassifier()\n",
        "predictions, f1score, metrics_report, DT_prf = train_test_clf(DT_model, X_train, X_test, y_train, y_test, labels)"
      ],
      "execution_count": null,
      "outputs": [
        {
          "output_type": "stream",
          "name": "stdout",
          "text": [
            "Start training....done!\n",
            "Start testing....done!\n"
          ]
        }
      ]
    },
    {
      "cell_type": "code",
      "metadata": {
        "id": "cCeA_BpNDhAn"
      },
      "source": [
        "'''\n",
        "In the following two cells, predictions are made and a classification report with all the findings is shown.\n",
        "'''\n",
        "y_pred1 = DT_model.predict(X_test)"
      ],
      "execution_count": null,
      "outputs": []
    },
    {
      "cell_type": "code",
      "metadata": {
        "colab": {
          "base_uri": "https://localhost:8080/"
        },
        "id": "WNEWgUmync6r",
        "outputId": "d19a575c-0c6b-49c0-a360-dc40bfce716f"
      },
      "source": [
        "print('F1 score: {}'.format(f1score))\n",
        "print('='*100)\n",
        "print(metrics_report)"
      ],
      "execution_count": null,
      "outputs": [
        {
          "output_type": "stream",
          "name": "stdout",
          "text": [
            "F1 score: 0.9989644186153007\n",
            "====================================================================================================\n",
            "                       precision    recall  f1-score   support\n",
            "\n",
            "               BENIGN       1.00      1.00      1.00      3187\n",
            "     mirai_udp_attack       0.97      0.97      0.97        71\n",
            "     mirai_ack_attack       0.99      0.99      0.99       257\n",
            "   gafgyt_scan_attack       0.99      1.00      1.00       117\n",
            "    mirai_scan_attack       1.00      0.99      1.00       183\n",
            "    gafgyt_tcp_attack       1.00      1.00      1.00       594\n",
            "    gafgyt_udp_attack       1.00      0.99      0.99        87\n",
            "   gafgyt_junk_attack       1.00      1.00      1.00        85\n",
            "  gafgyt_combo_attack       1.00      1.00      1.00       116\n",
            "     mirai_syn_attack       1.00      1.00      1.00      2022\n",
            "mirai_udpplain_attack       1.00      1.00      1.00        41\n",
            "\n",
            "             accuracy                           1.00      6760\n",
            "            macro avg       1.00      1.00      1.00      6760\n",
            "         weighted avg       1.00      1.00      1.00      6760\n",
            "\n"
          ]
        }
      ]
    },
    {
      "cell_type": "code",
      "metadata": {
        "colab": {
          "base_uri": "https://localhost:8080/",
          "height": 505
        },
        "id": "gxmPq2o-Bl69",
        "outputId": "37724de0-b5a4-4d0c-b3ab-8025c650aa75"
      },
      "source": [
        "'''\n",
        "The below code is responsible for showing the confusion matrix for the model, in which the numbers of correct and incorrect predictions are summarized in the form\n",
        "of a heatmap using seaborn.\n",
        "'''\n",
        "cm_DT = metrics.confusion_matrix(y_test,y_pred1)\n",
        "sns.set(font_scale=1.4)\n",
        "sns.heatmap(cm_DT, annot=True, annot_kws={\"size\": 16}, fmt='2g')\n",
        "plt.show()"
      ],
      "execution_count": null,
      "outputs": [
        {
          "output_type": "display_data",
          "data": {
            "image/png": "[encoded data removed]",
            "text/plain": [
              "<Figure size 842.4x595.44 with 2 Axes>"
            ]
          },
          "metadata": {}
        }
      ]
    },
    {
      "cell_type": "markdown",
      "metadata": {
        "id": "tfxWcBuIdcSU"
      },
      "source": [
        "##Second learning algorithm (Static) - Random forest"
      ]
    },
    {
      "cell_type": "code",
      "metadata": {
        "id": "wDwSZjB776pR",
        "colab": {
          "base_uri": "https://localhost:8080/"
        },
        "outputId": "2f6986a6-bbe5-48e7-aa0a-7a01532b5968"
      },
      "source": [
        "'''\n",
        "Random forest classifier is defined, all hyperparameters remained default.\n",
        "'''\n",
        "RF_model = RandomForestClassifier()\n",
        "predictions, f1score, metrics_report, RF_prf = train_test_clf(RF_model, X_train, X_test, y_train, y_test, labels)"
      ],
      "execution_count": null,
      "outputs": [
        {
          "output_type": "stream",
          "name": "stdout",
          "text": [
            "Start training....done!\n",
            "Start testing....done!\n"
          ]
        }
      ]
    },
    {
      "cell_type": "code",
      "metadata": {
        "id": "g6Lh9ahh-O_D"
      },
      "source": [
        "'''\n",
        "In the following two cells, predictions are made and a classification report with all the findings is shown.\n",
        "'''\n",
        "y_pred2 = RF_model.predict(X_test)"
      ],
      "execution_count": null,
      "outputs": []
    },
    {
      "cell_type": "code",
      "metadata": {
        "colab": {
          "base_uri": "https://localhost:8080/"
        },
        "id": "v53yGMdLpESf",
        "outputId": "3684df9e-75b6-4e9f-f5dd-eb9b8cde1a9d"
      },
      "source": [
        "print('F1 score: {}'.format(f1score))\n",
        "print('='*100)\n",
        "print(metrics_report)"
      ],
      "execution_count": null,
      "outputs": [
        {
          "output_type": "stream",
          "name": "stdout",
          "text": [
            "F1 score: 0.999851930570774\n",
            "====================================================================================================\n",
            "                       precision    recall  f1-score   support\n",
            "\n",
            "               BENIGN       1.00      1.00      1.00      3187\n",
            "     mirai_udp_attack       1.00      1.00      1.00        71\n",
            "     mirai_ack_attack       1.00      1.00      1.00       257\n",
            "   gafgyt_scan_attack       1.00      1.00      1.00       117\n",
            "    mirai_scan_attack       1.00      0.99      1.00       183\n",
            "    gafgyt_tcp_attack       1.00      1.00      1.00       594\n",
            "    gafgyt_udp_attack       1.00      1.00      1.00        87\n",
            "   gafgyt_junk_attack       1.00      1.00      1.00        85\n",
            "  gafgyt_combo_attack       1.00      1.00      1.00       116\n",
            "     mirai_syn_attack       1.00      1.00      1.00      2022\n",
            "mirai_udpplain_attack       1.00      1.00      1.00        41\n",
            "\n",
            "             accuracy                           1.00      6760\n",
            "            macro avg       1.00      1.00      1.00      6760\n",
            "         weighted avg       1.00      1.00      1.00      6760\n",
            "\n"
          ]
        }
      ]
    },
    {
      "cell_type": "code",
      "metadata": {
        "colab": {
          "base_uri": "https://localhost:8080/",
          "height": 505
        },
        "id": "v5L3M_7zBvmN",
        "outputId": "08f21bbe-324c-411c-b78e-e1dc983ec524"
      },
      "source": [
        "'''\n",
        "The below code is responsible for showing the confusion matrix for the model, in which the numbers of correct and incorrect predictions are summarized in the form\n",
        "of a heatmap using seaborn.\n",
        "'''\n",
        "cm_RF = metrics.confusion_matrix(y_test,y_pred2)\n",
        "sns.set(font_scale=1.4)\n",
        "sns.heatmap(cm_RF, annot=True, annot_kws={\"size\": 16}, fmt='2g')\n",
        "plt.show()"
      ],
      "execution_count": null,
      "outputs": [
        {
          "output_type": "display_data",
          "data": {
            "image/png": "[encoded data removed]",
            "text/plain": [
              "<Figure size 842.4x595.44 with 2 Axes>"
            ]
          },
          "metadata": {}
        }
      ]
    },
    {
      "cell_type": "markdown",
      "metadata": {
        "id": "cEAEjXzpjbiy"
      },
      "source": [
        "## Dynamic model (adapts through time)"
      ]
    },
    {
      "cell_type": "code",
      "metadata": {
        "id": "a2gtVNWXl-ze"
      },
      "source": [
        "consumer = KafkaConsumer(\n",
        "    'task2',\n",
        "    bootstrap_servers=\"34.130.121.39:9092\",\n",
        "    sasl_plain_username=\"student\",\n",
        "    sasl_plain_password=\"uottawa\",\n",
        "    security_protocol=\"SASL_PLAINTEXT\",\n",
        "    sasl_mechanism=\"PLAIN\",\n",
        "    auto_offset_reset='earliest',\n",
        "    enable_auto_commit=False\n",
        ")"
      ],
      "execution_count": null,
      "outputs": []
    },
    {
      "cell_type": "code",
      "metadata": {
        "id": "Rg65EHGPZ9Ia"
      },
      "source": [
        "with open('classifier', 'wb') as file1:\n",
        "    pickle.dump(RF_model, file1)\n",
        "with open('classifier' , 'rb') as file2:\n",
        "    stat = pickle.load(file2)\n",
        "with open('classifier' , 'rb') as file3:\n",
        "    dyn = pickle.load(file3)"
      ],
      "execution_count": null,
      "outputs": []
    },
    {
      "cell_type": "code",
      "metadata": {
        "id": "pZOMkEySmkJp"
      },
      "source": [
        "dyn_data = data\n",
        "PACKET_MAX = 100000\n",
        "sliding_window = 10000\n",
        "steps = PACKET_MAX // sliding_window\n",
        "all_scores_stat = []\n",
        "all_scores_dyn = []\n",
        "data = []\n",
        "data = pd.DataFrame()\n",
        "\n",
        "for n in range(steps):          #for loop that takes number of iterations (10 iterations since the batch size is 10K)\n",
        "  \n",
        "  #calling the consumer_loop function to pull and preprocess the data packets from the Kafka server\n",
        "  df_consumer = consumer_loop(sliding_window)\n",
        "  \n",
        "  #separating labels from the rest of the features\n",
        "  X_dyn = dyn_data.drop(['Class'], axis=1)\n",
        "  y_dyn = dyn_data['Class']\n",
        "\n",
        "  #predictions are made for further evaluation. Then, f-1 scores are printed for each iteration\n",
        "  y_pred_dyn = dyn.predict(X_dyn)\n",
        "  y_pred_stat = stat.predict(X_dyn)\n",
        "  f1_iter_dyn = metrics.f1_score(y_dyn, y_pred_dyn, average=\"weighted\")\n",
        "  f1_iter_stat = metrics.f1_score(y_dyn, y_pred_stat, average= \"weighted\")\n",
        "\n",
        "  all_scores_dyn.append(f1_iter_dyn)\n",
        "  all_scores_stat.append(f1_iter_stat)\n",
        "  \n",
        "  #this line of code deletes 10K rows from the dataset\n",
        "  dyn_data = dyn_data.iloc[sliding_window: , :]\n",
        "\n",
        "  #while this line appends the new data (10K) pulled from the Kafka server to the dataset\n",
        "  dyn_data = dyn_data.append(df_consumer)\n",
        "\n",
        "  #creating new X and y ready to be fit into the model\n",
        "  X_dyn_new = dyn_data.drop(['Class'], axis=1)\n",
        "  y_dyn_new = dyn_data['Class']\n",
        "\n",
        "  #the chosen model here was the random forest as it provided a slightly better performance\n",
        "  dyn.fit(X_dyn_new,y_dyn_new)"
      ],
      "execution_count": null,
      "outputs": []
    },
    {
      "cell_type": "code",
      "metadata": {
        "colab": {
          "base_uri": "https://localhost:8080/"
        },
        "id": "gT5hRwRuuGpv",
        "outputId": "613cfab9-1fea-4806-aba0-f15771f2d265"
      },
      "source": [
        "print(all_scores_stat)\n",
        "print(all_scores_dyn)"
      ],
      "execution_count": null,
      "outputs": [
        {
          "output_type": "stream",
          "name": "stdout",
          "text": [
            "[0.9976124885814011, 0.9973810601805764, 0.9973779854584369, 0.9973186631097424, 0.9972833411358597, 0.9969710141541196, 0.996701613487084, 0.9970634079816405, 0.9973932845193428, 0.9974233683771199]\n",
            "[0.9976124885814011, 0.9998041825701537, 0.9998042541604889, 0.9997649479719569, 0.9997649880447499, 0.9998434745113142, 0.9997649824677709, 0.9997647905712497, 0.9998041948550163, 0.9998826974268102]\n"
          ]
        }
      ]
    },
    {
      "cell_type": "code",
      "metadata": {
        "colab": {
          "base_uri": "https://localhost:8080/",
          "height": 528
        },
        "id": "q6YILJ-OuJW6",
        "outputId": "7b22ce4b-79a0-435c-afd8-ec316463c7ae"
      },
      "source": [
        "plt.plot(all_scores_stat)\n",
        "plt.plot(all_scores_dyn)\n",
        "plt.xlabel('Iteration number')\n",
        "plt.ylabel('F-1 Score')\n",
        "plt.xticks(range(0,10))\n",
        "plt.legend(['F-1 score for static algorithm','F-1 score for dynamic algorithm'])\n",
        "plt.show()"
      ],
      "execution_count": null,
      "outputs": [
        {
          "output_type": "display_data",
          "data": {
            "image/png": "[encoded data removed]",
            "text/plain": [
              "<Figure size 842.4x595.44 with 1 Axes>"
            ]
          },
          "metadata": {}
        }
      ]
    }
  ]
}